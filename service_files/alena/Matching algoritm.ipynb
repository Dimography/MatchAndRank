{
 "cells": [
  {
   "cell_type": "code",
   "execution_count": 1,
   "metadata": {
    "collapsed": true
   },
   "outputs": [],
   "source": [
    "import pandas\n",
    "import pickle\n",
    "import json\n",
    "from tqdm import tqdm_notebook\n",
    "from pandas.io.json import json_normalize"
   ]
  },
  {
   "cell_type": "code",
   "execution_count": 2,
   "metadata": {
    "collapsed": true
   },
   "outputs": [],
   "source": [
    "teamleads = pickle.load(open(\"teamleads\", \"rb\"))"
   ]
  },
  {
   "cell_type": "code",
   "execution_count": 3,
   "metadata": {
    "collapsed": true
   },
   "outputs": [],
   "source": [
    "developers = pickle.load(open(\"developers\", \"rb\"))"
   ]
  },
  {
   "cell_type": "code",
   "execution_count": 4,
   "metadata": {
    "collapsed": true
   },
   "outputs": [],
   "source": [
    "new_developers = pickle.load(open(\"new_developers\", \"rb\"))"
   ]
  },
  {
   "cell_type": "code",
   "execution_count": 73,
   "metadata": {},
   "outputs": [],
   "source": [
    "def calculate_personal_mentor_possibility(person):\n",
    "    if (person['wantmentee'] == 1 and len(person['menteeid'].split(', ')) < person['maxmentee']):\n",
    "        mentor_possibility = person['currentcompanyexperience'] * 0.2 + person['overalexperience'] * 0.1 + person['mentorscore'] * 0.05 - person['ismentor'] * 0.05\n",
    "    else:\n",
    "        mentor_possibility = 0\n",
    "    return mentor_possibility"
   ]
  },
  {
   "cell_type": "code",
   "execution_count": 78,
   "metadata": {
    "collapsed": true
   },
   "outputs": [],
   "source": [
    "def calculate_mentor_possibility(mentee, mentor):\n",
    "    if (mentee['ismentee'] == 1):\n",
    "        return 0\n",
    "    if (mentee['department'] != mentor['department']):\n",
    "        return 0\n",
    "    if (mentee['id'] == mentor['id']):\n",
    "        return 0\n",
    "    \n",
    "    if mentee['codinglanguages'] == '':\n",
    "        lang_mathing = 2\n",
    "    else:\n",
    "        lang_mathing = 0\n",
    "        tee_langs = mentee['codinglanguages'].split(', ')\n",
    "        tor_langs = mentor['codinglanguages']\n",
    "        for i in tee_langs:\n",
    "            if i in tor_langs:\n",
    "                lang_mathing += 1\n",
    "\n",
    "    institute_matching = 0\n",
    "    tee_institutes = mentee['institutes'].split(', ')\n",
    "    tor_institutes = mentor['institutes']\n",
    "    for i in tee_institutes:\n",
    "        if i in tor_institutes:\n",
    "            institute_matching += 1\n",
    "            break\n",
    "            \n",
    "    age_diff = abs(mentor['age'] - mentee['age'])\n",
    "    \n",
    "    return calculate_personal_mentor_possibility(mentor) + 0.1 * lang_mathing + 0.1 * institute_matching - 0.01 * age_diff"
   ]
  },
  {
   "cell_type": "code",
   "execution_count": 79,
   "metadata": {
    "collapsed": true
   },
   "outputs": [],
   "source": [
    "import numpy as np"
   ]
  },
  {
   "cell_type": "code",
   "execution_count": 86,
   "metadata": {
    "collapsed": true
   },
   "outputs": [],
   "source": [
    "def find_mentors(mentee, mentors, n):\n",
    "    matches = []\n",
    "    for i in mentors:\n",
    "        matches.append(calculate_mentor_possibility(mentee, i))\n",
    "    maximum = max(matches)\n",
    "    maximum = max(10, maximum)\n",
    "    minimum = min(matches)\n",
    "    matches = [(i - minimum)/(maximum - minimum) for i in matches]\n",
    "    matches = np.asarray(matches)\n",
    "    if (n < len(matches)):\n",
    "        return matches.argsort()[-n:][::-1]\n",
    "    else:\n",
    "        return matches.argsort()[::-1]"
   ]
  },
  {
   "cell_type": "code",
   "execution_count": 88,
   "metadata": {},
   "outputs": [
    {
     "data": {
      "text/plain": [
       "array([ 87, 173,  45,  27, 132])"
      ]
     },
     "execution_count": 88,
     "metadata": {},
     "output_type": "execute_result"
    }
   ],
   "source": [
    "find_mentors(new_developers[67], developers, 5)"
   ]
  }
 ],
 "metadata": {
  "kernelspec": {
   "display_name": "Python 3",
   "language": "python",
   "name": "python3"
  },
  "language_info": {
   "codemirror_mode": {
    "name": "ipython",
    "version": 3
   },
   "file_extension": ".py",
   "mimetype": "text/x-python",
   "name": "python",
   "nbconvert_exporter": "python",
   "pygments_lexer": "ipython3",
   "version": "3.6.3"
  }
 },
 "nbformat": 4,
 "nbformat_minor": 2
}
