{
 "cells": [
  {
   "cell_type": "code",
   "execution_count": 17,
   "metadata": {},
   "outputs": [],
   "source": [
    "import pandas\n",
    "import matplotlib.pyplot as plt\n",
    "\n",
    "%matplotlib inline"
   ]
  },
  {
   "cell_type": "code",
   "execution_count": 13,
   "metadata": {},
   "outputs": [],
   "source": [
    "hack_all = pandas.DataFrame.from_csv(\"hack_events.csv\")"
   ]
  },
  {
   "cell_type": "code",
   "execution_count": 15,
   "metadata": {},
   "outputs": [
    {
     "data": {
      "text/html": [
       "<div>\n",
       "<table border=\"1\" class=\"dataframe\">\n",
       "  <thead>\n",
       "    <tr style=\"text-align: right;\">\n",
       "      <th></th>\n",
       "      <th>Id</th>\n",
       "      <th>status</th>\n",
       "    </tr>\n",
       "  </thead>\n",
       "  <tbody>\n",
       "    <tr>\n",
       "      <th>0</th>\n",
       "      <td>ba23daea73a56e230d487c6c4276f862</td>\n",
       "      <td>4474(одобрен,участник)</td>\n",
       "    </tr>\n",
       "    <tr>\n",
       "      <th>1</th>\n",
       "      <td>e66d975839f26e7090c4b78576278b0b</td>\n",
       "      <td>2463(одобрен,участник), 4729(одобрен,участник)</td>\n",
       "    </tr>\n",
       "    <tr>\n",
       "      <th>2</th>\n",
       "      <td>9a95775de9b4c1499cc703e1ec6d9070</td>\n",
       "      <td>1216(одобрен,участник), 2463(одобрен,участник)...</td>\n",
       "    </tr>\n",
       "    <tr>\n",
       "      <th>3</th>\n",
       "      <td>ba8729609356a2b5611ca19dd981ba34</td>\n",
       "      <td>2540(одобрен,участник), 2463(одобрен,участник)</td>\n",
       "    </tr>\n",
       "    <tr>\n",
       "      <th>4</th>\n",
       "      <td>b95ca7ab34f89904d1bd3d938cb19805</td>\n",
       "      <td>4009(одобрен,участник)</td>\n",
       "    </tr>\n",
       "  </tbody>\n",
       "</table>\n",
       "</div>"
      ],
      "text/plain": [
       "                                 Id  \\\n",
       "0  ba23daea73a56e230d487c6c4276f862   \n",
       "1  e66d975839f26e7090c4b78576278b0b   \n",
       "2  9a95775de9b4c1499cc703e1ec6d9070   \n",
       "3  ba8729609356a2b5611ca19dd981ba34   \n",
       "4  b95ca7ab34f89904d1bd3d938cb19805   \n",
       "\n",
       "                                              status  \n",
       "0                             4474(одобрен,участник)  \n",
       "1     2463(одобрен,участник), 4729(одобрен,участник)  \n",
       "2  1216(одобрен,участник), 2463(одобрен,участник)...  \n",
       "3     2540(одобрен,участник), 2463(одобрен,участник)  \n",
       "4                             4009(одобрен,участник)  "
      ]
     },
     "execution_count": 15,
     "metadata": {},
     "output_type": "execute_result"
    }
   ],
   "source": [
    "hack_all.head()"
   ]
  }
 ],
 "metadata": {
  "kernelspec": {
   "display_name": "Python 3",
   "language": "python",
   "name": "python3"
  },
  "language_info": {
   "codemirror_mode": {
    "name": "ipython",
    "version": 2
   },
   "file_extension": ".py",
   "mimetype": "text/x-python",
   "name": "python",
   "nbconvert_exporter": "python",
   "pygments_lexer": "ipython2",
   "version": "2.7.14"
  }
 },
 "nbformat": 4,
 "nbformat_minor": 2
}
