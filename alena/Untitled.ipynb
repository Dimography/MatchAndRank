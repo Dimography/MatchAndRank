{
 "cells": [
  {
   "cell_type": "code",
   "execution_count": 1,
   "metadata": {
    "collapsed": true
   },
   "outputs": [],
   "source": [
    "import pandas\n",
    "import json\n",
    "from pandas.io.json import json_normalize"
   ]
  },
  {
   "cell_type": "code",
   "execution_count": 2,
   "metadata": {
    "collapsed": true
   },
   "outputs": [],
   "source": [
    "data = []"
   ]
  },
  {
   "cell_type": "code",
   "execution_count": 3,
   "metadata": {
    "collapsed": true
   },
   "outputs": [],
   "source": [
    "for line in open('../Downloads/resumes.json', 'r'):\n",
    "    data.append(json.loads(line))"
   ]
  },
  {
   "cell_type": "code",
   "execution_count": 4,
   "metadata": {
    "collapsed": true
   },
   "outputs": [],
   "source": [
    "from tqdm import tqdm_notebook"
   ]
  },
  {
   "cell_type": "code",
   "execution_count": 15,
   "metadata": {
    "collapsed": true
   },
   "outputs": [],
   "source": [
    "data = json_normalize(data[:len(data)//2])"
   ]
  },
  {
   "cell_type": "code",
   "execution_count": 31,
   "metadata": {
    "collapsed": true
   },
   "outputs": [],
   "source": [
    "data.payment = pandas.to_numeric(data.payment, errors='coerce')"
   ]
  },
  {
   "cell_type": "code",
   "execution_count": null,
   "metadata": {
    "collapsed": true
   },
   "outputs": [],
   "source": []
  },
  {
   "cell_type": "raw",
   "metadata": {},
   "source": []
  },
  {
   "cell_type": "code",
   "execution_count": 100,
   "metadata": {},
   "outputs": [
    {
     "name": "stderr",
     "output_type": "stream",
     "text": [
      "/home/ws/anaconda3/lib/python3.6/site-packages/ipykernel_launcher.py:1: UserWarning: Boolean Series key will be reindexed to match DataFrame index.\n",
      "  \"\"\"Entry point for launching an IPython kernel.\n"
     ]
    }
   ],
   "source": [
    "goodpr = data[data.profession_tree_name  == \"Разработчик\"][data.payment >= 60000]"
   ]
  },
  {
   "cell_type": "code",
   "execution_count": 57,
   "metadata": {
    "collapsed": true
   },
   "outputs": [],
   "source": [
    "users = []"
   ]
  },
  {
   "cell_type": "code",
   "execution_count": 58,
   "metadata": {},
   "outputs": [],
   "source": [
    "for i in range(100):\n",
    "    users.append([])"
   ]
  },
  {
   "cell_type": "code",
   "execution_count": 61,
   "metadata": {
    "collapsed": true
   },
   "outputs": [],
   "source": [
    "import random"
   ]
  },
  {
   "cell_type": "code",
   "execution_count": 134,
   "metadata": {
    "collapsed": true
   },
   "outputs": [],
   "source": [
    "mentormentee = {1 : 13, 4 : 21, 6 : 18}"
   ]
  },
  {
   "cell_type": "code",
   "execution_count": 143,
   "metadata": {},
   "outputs": [
    {
     "data": {
      "text/plain": [
       "[13, 21, 18]"
      ]
     },
     "execution_count": 143,
     "metadata": {},
     "output_type": "execute_result"
    }
   ],
   "source": [
    "list(mentormentee.values())"
   ]
  },
  {
   "cell_type": "code",
   "execution_count": 144,
   "metadata": {
    "collapsed": true
   },
   "outputs": [],
   "source": [
    "teamleads = []"
   ]
  },
  {
   "cell_type": "code",
   "execution_count": 146,
   "metadata": {},
   "outputs": [
    {
     "ename": "SyntaxError",
     "evalue": "invalid syntax (<ipython-input-146-fa990c92bf22>, line 51)",
     "output_type": "error",
     "traceback": [
      "\u001b[0;36m  File \u001b[0;32m\"<ipython-input-146-fa990c92bf22>\"\u001b[0;36m, line \u001b[0;32m51\u001b[0m\n\u001b[0;31m    lang = [random.choice([\"c++\", \"java\", \"python\", \"c\", \"rust\", \"r\"]), random.choice([\"c++\", \"java\", \"python\", \"c\", \"rust\", \"r\")]\u001b[0m\n\u001b[0m                                                                                                                                ^\u001b[0m\n\u001b[0;31mSyntaxError\u001b[0m\u001b[0;31m:\u001b[0m invalid syntax\n"
     ]
    }
   ],
   "source": [
    "for i in range(1, 10):\n",
    "    uid = i\n",
    "    surname = {\"surname\" : \"Surname\" + str(i)}\n",
    "    name = {\"name\" : \"Username\" + str(i)}\n",
    "    fathername = {\"fathername\" : \"Fathername\" + str(i)}\n",
    "    age = random.randint(25, 45)\n",
    "    position = {\"position\" : \"teamlead\"}\n",
    "    depat = {\"department\" : \"Development\"}\n",
    "    \n",
    "    if i in list(mentormentee.keys()):\n",
    "        isMentor = {\"ismentor\" : 1}\n",
    "        menteeid = {\"menteeid\" : mentormentee[i]}\n",
    "    else:        \n",
    "        isMentor = {\"ismentor\" : 0}\n",
    "        menteeid = {\"menteeid\" : 0}\n",
    "    \n",
    "    isMentee = {\"ismentee\" : 0}\n",
    "    wantMenteeRand = random.choice([0, 1])\n",
    "    wantMentee = {\"wantmentee\" : wantMenteeRand}\n",
    "    overallexperience = {\"overallexperience\" : random.randint(6, 10)}\n",
    "    currentCompanyExperience = {\"currentcompanyexperience\" : random.randint(6, 10)}\n",
    "    \n",
    "    if wantMenteeRand != 0:\n",
    "        maxMentee = {\"maxmentee\" : random.randint(1, 4)}\n",
    "    else:\n",
    "        maxMentee = {\"maxmentee\" : 0}\n",
    "        \n",
    "    score = {\"score\" : random.randint(10, 30)}\n",
    "    date = {\"date\" : 0}\n",
    "    mentorScore = [menteeid, score, date]\n",
    "    \n",
    "    if (i in list(mentormentee.values())):\n",
    "        for j in list(mentormentee.keys()):\n",
    "            if (mentormentee[j] == i):\n",
    "                mentorid = {\"mentorid\" : j} \n",
    "                break\n",
    "    else:\n",
    "        mentorid = {\"mentorid\" : 0}\n",
    "        \n",
    "    score = {\"score\" : random.randint(10, 30)}\n",
    "    date = {\"date\" : 0}\n",
    "    menteeScore = [mentorid, score, date]\n",
    "    \n",
    "    startdate = {\"startdate\" : 0}\n",
    "    enddate = {\"enddate\" : 0}\n",
    "    endreason = {\"endreason\" : \"\"}\n",
    "    currentMentee = [menteeid, startdate, enddate, endreason]\n",
    "    lang = {\"language\" : [\"english\", random.choice([\"german\", \"spanish\", \"italian\", \"french\"])]}\n",
    "    level = [random.randint(1, 5), random.randint(1, 5)]\n",
    "    speakingLanguages = [lang, level]\n",
    "    lang = [random.choice([\"c++\", \"java\", \"python\", \"c\", \"rust\", \"r\"]), random.choice([\"c++\", \"java\", \"python\", \"c\", \"rust\", \"r\")]]\n",
    "    level = [random.randint(1, 5), random.randint(1, 5)]\n",
    "    codingLanguages = [lang, level]\n",
    "    teamleads.append({uid : [surname, name, fathername, age, depat, position, isMentor, isMentee, \n",
    "                            wantMentee, overallexperience, currentCompanyExperience, maxMentee, \n",
    "                            mentorScore, menteeScore, currentMentee, speakingLanguages, codingLanguages]})"
   ]
  },
  {
   "cell_type": "code",
   "execution_count": null,
   "metadata": {
    "collapsed": true
   },
   "outputs": [],
   "source": []
  }
 ],
 "metadata": {
  "kernelspec": {
   "display_name": "Python 3",
   "language": "python",
   "name": "python3"
  },
  "language_info": {
   "codemirror_mode": {
    "name": "ipython",
    "version": 3
   },
   "file_extension": ".py",
   "mimetype": "text/x-python",
   "name": "python",
   "nbconvert_exporter": "python",
   "pygments_lexer": "ipython3",
   "version": "3.6.3"
  }
 },
 "nbformat": 4,
 "nbformat_minor": 2
}
